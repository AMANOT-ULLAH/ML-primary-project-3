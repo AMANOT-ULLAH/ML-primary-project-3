{
 "cells": [
  {
   "cell_type": "code",
   "execution_count": 24,
   "metadata": {},
   "outputs": [],
   "source": [
    "import mailbox\n",
    "import pandas as pd\n",
    "import os"
   ]
  },
  {
   "cell_type": "code",
   "execution_count": 25,
   "metadata": {},
   "outputs": [],
   "source": [
    "# Directory load \n",
    "mbox_dir = r'E:\\my programe\\python pro\\ML Practiuce\\ML resources\\codebascis practice\\Takeout\\Mail'"
   ]
  },
  {
   "cell_type": "code",
   "execution_count": 26,
   "metadata": {},
   "outputs": [],
   "source": [
    "# Define files explicitly\n",
    "mbox_files = ['Important.mbox', 'Spam.mbox']"
   ]
  },
  {
   "cell_type": "code",
   "execution_count": 27,
   "metadata": {},
   "outputs": [],
   "source": [
    "emails = []"
   ]
  },
  {
   "cell_type": "code",
   "execution_count": 28,
   "metadata": {},
   "outputs": [
    {
     "name": "stdout",
     "output_type": "stream",
     "text": [
      "Processing E:\\my programe\\python pro\\ML Practiuce\\ML resources\\codebascis practice\\Takeout\\Mail\\Important.mbox...\n",
      "Processing E:\\my programe\\python pro\\ML Practiuce\\ML resources\\codebascis practice\\Takeout\\Mail\\Spam.mbox...\n"
     ]
    }
   ],
   "source": [
    "for mbox_file in mbox_files:\n",
    "    mbox_path = os.path.join(mbox_dir, mbox_file)\n",
    "    \n",
    "    \n",
    "    print(f\"Processing {mbox_path}...\")\n",
    "\n",
    "   \n",
    "    mbox = mailbox.mbox(mbox_path)\n",
    "\n",
    "    \n",
    "    category = 'important' if 'Important' in mbox_file else 'spam'\n",
    "\n",
    "    num_emails = 160 \n",
    "\n",
    "    for i,message in enumerate(mbox):\n",
    "        if i >= num_emails:\n",
    "            break\n",
    "\n",
    "        subject = message['subject'] if message['subject'] else 'kicu nai'\n",
    "        sender = message['from'] if message['from'] else 'keu nai'\n",
    "        date = message['date'] if message['date'] else 'din ses'\n",
    "        \n",
    "        try:\n",
    "            if message.is_multipart():\n",
    "                body = ''.join(part.get_payload(decode=True).decode('utf-8', errors='ignore') for part in message.walk() if part.get_content_type() == 'text/plain')\n",
    "            else:\n",
    "                body = message.get_payload(decode=True).decode('utf-8', errors='ignore') if message.get_payload(decode=True) else 'No Body'\n",
    "        except Exception as e:\n",
    "            body = 'Error extracting body'\n",
    "\n",
    "        email = {\n",
    "            'Category': category,\n",
    "            'Subject': subject,\n",
    "            'From': sender,\n",
    "            'Date': date,\n",
    "            'Body': body\n",
    "        }\n",
    "        emails.append(email)\n",
    "\n"
   ]
  },
  {
   "cell_type": "markdown",
   "metadata": {},
   "source": [
    "Python's enumerate() function is a powerful tool that simplifies the process of keeping track of indices when iterating through sequences\n",
    "\n",
    "message.walk()-> allow to iterate the message.\n",
    "\n",
    "part.get_payload(decode=True)->  retrieves  the email parts.decode=True -> decode the content if it's encoded (e.g., base64).\n",
    "\n",
    "[expression for item in iterable if condition] is used \n",
    "\n",
    "\n",
    "f-string: An f-string allows you to embed expressions inside string literals, using curly braces {} \n",
    "\n",
    "value_if_true if condition else value_if_false\n",
    "\n"
   ]
  },
  {
   "cell_type": "code",
   "execution_count": 29,
   "metadata": {},
   "outputs": [],
   "source": [
    "\n",
    "df = pd.DataFrame(emails)\n",
    "\n"
   ]
  },
  {
   "cell_type": "code",
   "execution_count": 30,
   "metadata": {},
   "outputs": [],
   "source": [
    "\n",
    "df.to_csv('emails_combined.csv', index=False)\n",
    "\n"
   ]
  }
 ],
 "metadata": {
  "kernelspec": {
   "display_name": "Python 3",
   "language": "python",
   "name": "python3"
  },
  "language_info": {
   "codemirror_mode": {
    "name": "ipython",
    "version": 3
   },
   "file_extension": ".py",
   "mimetype": "text/x-python",
   "name": "python",
   "nbconvert_exporter": "python",
   "pygments_lexer": "ipython3",
   "version": "3.12.2"
  }
 },
 "nbformat": 4,
 "nbformat_minor": 2
}
